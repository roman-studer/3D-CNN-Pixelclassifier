{
 "cells": [
  {
   "cell_type": "code",
   "execution_count": 1,
   "outputs": [
    {
     "name": "stderr",
     "output_type": "stream",
     "text": [
      "C:\\Users\\stude\\AppData\\Roaming\\Python\\Python39\\site-packages\\torchaudio\\backend\\utils.py:74: UserWarning: No audio backend is available.\n",
      "  warnings.warn(\"No audio backend is available.\")\n"
     ]
    }
   ],
   "source": [
    "import torch\n",
    "from torch.utils.data import Dataset, DataLoader\n",
    "from pytorch_lightning import LightningDataModule\n",
    "import numpy as np\n",
    "import os\n",
    "from PIL import Image\n",
    "from glob import glob\n",
    "import cv2\n",
    "import matplotlib.pyplot as plt"
   ],
   "metadata": {
    "collapsed": false,
    "ExecuteTime": {
     "end_time": "2023-12-20T13:09:28.266788400Z",
     "start_time": "2023-12-20T13:09:25.205100400Z"
    }
   },
   "id": "37e1a06967944c86"
  },
  {
   "cell_type": "code",
   "execution_count": 2,
   "outputs": [],
   "source": [
    "class HyperspectralDataset(Dataset):\n",
    "    def __init__(self, cube_dir, mask_dir, window_size):\n",
    "        self.cube_dir = cube_dir\n",
    "        self.mask_dir = mask_dir\n",
    "        self.window_size = window_size\n",
    "        # list subfolders starting with E\n",
    "        self.cube_files = [i.split('\\\\')[-1] for i in glob(os.path.join(cube_dir, 'E*'))]\n",
    "        self.current_cube = None\n",
    "        self.current_mask = None\n",
    "        self.current_cube_index = -1\n",
    "        self.image_shape = None\n",
    "        self.window_indices = self.prepare_window_indices()\n",
    "        \n",
    "\n",
    "    def prepare_window_indices(self):\n",
    "        window_indices = []\n",
    "        for cube_index, cube_file in enumerate(self.cube_files):\n",
    "            cube_path = os.path.join(self.cube_dir, cube_file, 'hsi.npy')\n",
    "            cube = np.load(cube_path)\n",
    "            #cube = np.transpose(cube, (1, 0, 2))\n",
    "            self.image_shape = cube.shape[:2]\n",
    "            \n",
    "            num_windows_x = cube.shape[0] // self.window_size\n",
    "            num_windows_y = cube.shape[1] // self.window_size\n",
    "\n",
    "            for i in range(num_windows_x):\n",
    "                for j in range(num_windows_y):\n",
    "                    window_indices.append((cube_index, i * self.window_size, j * self.window_size))\n",
    "        return window_indices\n",
    "\n",
    "    def load_cube(self, cube_index):\n",
    "        if cube_index != self.current_cube_index:\n",
    "            cube_path = os.path.join(self.cube_dir, self.cube_files[cube_index])\n",
    "            \n",
    "            mask_all = np.zeros(self.image_shape)\n",
    "            hsi_masks = glob(os.path.join(self.mask_dir, self.cube_files[cube_index], 'hsi_masks/*bmp'))\n",
    "            for mask_file in hsi_masks:\n",
    "                # load image with PIL\n",
    "                mask = Image.open(mask_file)\n",
    "                mask = np.array(mask)\n",
    "                mask = cv2.resize(mask, (self.image_shape[1], self.image_shape[0]))\n",
    "                mask_all = np.logical_or(mask_all, mask)\n",
    "                \n",
    "            self.current_cube = np.load(os.path.join(cube_path, 'hsi.npy'))\n",
    "            self.current_mask = mask_all\n",
    "            self.current_cube_index = cube_index\n",
    "\n",
    "    def __len__(self):\n",
    "        return len(self.window_indices)\n",
    "\n",
    "    def __getitem__(self, idx):\n",
    "        cube_index, i, j = self.window_indices[idx]\n",
    "        self.load_cube(cube_index)\n",
    "\n",
    "        window = self.current_cube[i:i+self.window_size, j:j+self.window_size, :]\n",
    "        window_mask = self.current_mask[i:i+self.window_size, j:j+self.window_size]\n",
    "\n",
    "        return window, window_mask\n",
    "\n",
    "\n",
    "class HyperspectralDataModule(LightningDataModule):\n",
    "    def __init__(self, cube_dir, mask_dir, window_size, batch_size):\n",
    "        super().__init__()\n",
    "        self.cube_dir = cube_dir\n",
    "        self.mask_dir = mask_dir\n",
    "        self.window_size = window_size\n",
    "        self.batch_size = batch_size\n",
    "\n",
    "    def train_dataloader(self):\n",
    "        train_dataset = HyperspectralDataset(self.cube_dir, self.mask_dir, self.window_size)\n",
    "        return DataLoader(train_dataset, batch_size=self.batch_size, shuffle=True)"
   ],
   "metadata": {
    "collapsed": false,
    "ExecuteTime": {
     "end_time": "2023-12-20T13:09:28.285819400Z",
     "start_time": "2023-12-20T13:09:28.273304700Z"
    }
   },
   "id": "a49f670bbc9ecb05"
  },
  {
   "cell_type": "code",
   "execution_count": 3,
   "outputs": [],
   "source": [
    "# Example usage\n",
    "cube_dir = '../../biocycle/data/processed/bcd_val/data/'\n",
    "mask_dir = '../../biocycle/data/processed/bcd_val/data/'\n",
    "window_size = 7\n",
    "batch_size = 2\n",
    "\n",
    "data_module = HyperspectralDataModule(cube_dir, mask_dir, window_size, batch_size)\n",
    "train_loader = data_module.train_dataloader()"
   ],
   "metadata": {
    "collapsed": true,
    "ExecuteTime": {
     "end_time": "2023-12-20T13:09:30.380523400Z",
     "start_time": "2023-12-20T13:09:28.283821400Z"
    }
   },
   "id": "initial_id"
  },
  {
   "cell_type": "code",
   "execution_count": 4,
   "outputs": [],
   "source": [
    "train_dataset = HyperspectralDataset(cube_dir, mask_dir, window_size)\n",
    "window, window_mask = train_dataset.__getitem__(0)"
   ],
   "metadata": {
    "collapsed": false,
    "ExecuteTime": {
     "end_time": "2023-12-20T13:09:32.535486600Z",
     "start_time": "2023-12-20T13:09:30.383030700Z"
    }
   },
   "id": "9830f4afc8a3611d"
  },
  {
   "cell_type": "code",
   "execution_count": 5,
   "outputs": [
    {
     "data": {
      "text/plain": "(7, 7, 224)"
     },
     "execution_count": 5,
     "metadata": {},
     "output_type": "execute_result"
    }
   ],
   "source": [
    "window.shape"
   ],
   "metadata": {
    "collapsed": false,
    "ExecuteTime": {
     "end_time": "2023-12-20T13:09:32.556595900Z",
     "start_time": "2023-12-20T13:09:32.536486500Z"
    }
   },
   "id": "cc876296dc29e2ea"
  },
  {
   "cell_type": "code",
   "execution_count": 6,
   "outputs": [
    {
     "data": {
      "text/plain": "(7, 7)"
     },
     "execution_count": 6,
     "metadata": {},
     "output_type": "execute_result"
    }
   ],
   "source": [
    "window_mask.shape"
   ],
   "metadata": {
    "collapsed": false,
    "ExecuteTime": {
     "end_time": "2023-12-20T13:09:32.603684100Z",
     "start_time": "2023-12-20T13:09:32.551084800Z"
    }
   },
   "id": "4f1bdd8256b97722"
  },
  {
   "cell_type": "code",
   "execution_count": 7,
   "outputs": [
    {
     "data": {
      "text/plain": "array([[False, False, False, False, False, False, False],\n       [False, False, False, False, False, False, False],\n       [False, False, False, False, False, False, False],\n       [False, False, False, False, False, False, False],\n       [False, False, False, False, False, False, False],\n       [False, False, False, False, False, False, False],\n       [False, False, False, False, False, False, False]])"
     },
     "execution_count": 7,
     "metadata": {},
     "output_type": "execute_result"
    }
   ],
   "source": [
    "window_mask"
   ],
   "metadata": {
    "collapsed": false,
    "ExecuteTime": {
     "end_time": "2023-12-20T13:09:32.604684600Z",
     "start_time": "2023-12-20T13:09:32.567744Z"
    }
   },
   "id": "7fac128f10c1b814"
  },
  {
   "cell_type": "code",
   "execution_count": 8,
   "outputs": [
    {
     "data": {
      "text/plain": "(679, 461)"
     },
     "execution_count": 8,
     "metadata": {},
     "output_type": "execute_result"
    }
   ],
   "source": [
    "train_dataset.current_mask.shape"
   ],
   "metadata": {
    "collapsed": false,
    "ExecuteTime": {
     "end_time": "2023-12-20T13:09:32.637576400Z",
     "start_time": "2023-12-20T13:09:32.584637Z"
    }
   },
   "id": "3a9bd0005efc5298"
  },
  {
   "cell_type": "code",
   "execution_count": null,
   "outputs": [
    {
     "data": {
      "text/plain": "<matplotlib.image.AxesImage at 0x20c48feab20>"
     },
     "execution_count": 9,
     "metadata": {},
     "output_type": "execute_result"
    }
   ],
   "source": [
    "plt.figure(figsize=(10, 10))\n",
    "plt.imshow(train_dataset.current_mask)"
   ],
   "metadata": {
    "collapsed": false,
    "is_executing": true,
    "ExecuteTime": {
     "start_time": "2023-12-20T13:09:54.306434100Z"
    }
   },
   "id": "efb2b75bfb82439a"
  }
 ],
 "metadata": {
  "kernelspec": {
   "display_name": "Python 3",
   "language": "python",
   "name": "python3"
  },
  "language_info": {
   "codemirror_mode": {
    "name": "ipython",
    "version": 2
   },
   "file_extension": ".py",
   "mimetype": "text/x-python",
   "name": "python",
   "nbconvert_exporter": "python",
   "pygments_lexer": "ipython2",
   "version": "2.7.6"
  }
 },
 "nbformat": 4,
 "nbformat_minor": 5
}
